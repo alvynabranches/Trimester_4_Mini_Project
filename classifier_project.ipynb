{
 "cells": [
  {
   "cell_type": "code",
   "execution_count": 1,
   "metadata": {},
   "outputs": [],
   "source": [
    "import numpy as np\n",
    "import pandas as pd\n",
    "\n",
    "import matplotlib.pyplot as plt\n",
    "import seaborn as sns\n",
    "\n",
    "import tensorflow as tf\n",
    "from tensorflow.keras.models import Sequential, load_model\n",
    "from tensorflow.keras.layers import Dense, Dropout, Conv2D, ConvLSTM2D, MaxPool2D, BatchNormalization, Flatten, Input\n",
    "from tensorflow.keras.optimizers import Adam, SGD\n",
    "from tensorflow.keras.losses import SparseCategoricalCrossentropy, CategoricalCrossentropy, BinaryCrossentropy\n",
    "from tensorflow.keras.regularizers import L2\n",
    "\n",
    "\n",
    "from sklearn.model_selection import train_test_split\n",
    "from sklearn.metrics import accuracy_score, confusion_matrix\n",
    "\n",
    "from warnings import filterwarnings\n",
    "filterwarnings('ignore')"
   ]
  },
  {
   "cell_type": "code",
   "execution_count": 2,
   "metadata": {},
   "outputs": [],
   "source": [
    "def conv_model(input_shape:tuple, output_classes:int, learning_rate:float, error, hidden_activation_function='relu', output_activation_function='sigmoid'):\n",
    "    conv_model = Sequential()\n",
    "    \n",
    "    # Input Layer\n",
    "    conv_model.add(Input(shape=(input_shape)))\n",
    "    \n",
    "    # Hidden Layer 1\n",
    "    conv_model.add(Conv2D(64, (3,3), activation=hidden_activation_function, kernel_regularizer=L2(0.001)))\n",
    "    conv_model.add(BatchNormalization())\n",
    "    conv_model.add(MaxPool2D((3,3), strides=(2,2), padding='same'))\n",
    "    \n",
    "    # Hidden Layer 2\n",
    "    conv_model.add(Conv2D(32, (3,3), activation=hidden_activation_function, kernel_regularizer=L2(0.001)))\n",
    "    conv_model.add(BatchNormalization())\n",
    "    conv_model.add(MaxPool2D((3,3), strides=(2,2), padding='same'))\n",
    "    \n",
    "    # Hidden Layer 3\n",
    "    conv_model.add(Conv2D(32, (3, 3), activation=hidden_activation_function, kernel_regularizer=L2(0.001)))\n",
    "    conv_model.add(BatchNormalization())\n",
    "    conv_model.add(MaxPool2D((2,2), strides=(2,2), padding='same'))\n",
    "    \n",
    "    # Hidden Layer 4\n",
    "    # Dense Layer takes in a 1D input hence used Flatten before\n",
    "    conv_model.add(Flatten())\n",
    "    conv_model.add(Dense(64, activation=hidden_activation_function))\n",
    "    conv_model.add(Dropout(.3))\n",
    "    \n",
    "    # Output Classification Layer\n",
    "    # Softmax Classifier Layer\n",
    "    conv_model.add(Dense(output_classes, activation=output_activation_function))\n",
    "    conv_model.compile(optimizer=Adam(learning_rate=learning_rate), loss=error, metrics=['accuracy'])\n",
    "    \n",
    "    conv_model.summary()\n",
    "    return conv_model"
   ]
  },
  {
   "cell_type": "code",
   "execution_count": null,
   "metadata": {},
   "outputs": [],
   "source": []
  }
 ],
 "metadata": {
  "kernelspec": {
   "display_name": "Python 3",
   "language": "python",
   "name": "python3"
  },
  "language_info": {
   "codemirror_mode": {
    "name": "ipython",
    "version": 3
   },
   "file_extension": ".py",
   "mimetype": "text/x-python",
   "name": "python",
   "nbconvert_exporter": "python",
   "pygments_lexer": "ipython3",
   "version": "3.8.5"
  }
 },
 "nbformat": 4,
 "nbformat_minor": 4
}
